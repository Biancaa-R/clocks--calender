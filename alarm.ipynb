{
  "nbformat": 4,
  "nbformat_minor": 0,
  "metadata": {
    "colab": {
      "name": "alarm.ipynb",
      "provenance": [],
      "authorship_tag": "ABX9TyOQFyQrad0oPsA7cLx7OghL",
      "include_colab_link": true
    },
    "kernelspec": {
      "display_name": "Python 3",
      "name": "python3"
    },
    "language_info": {
      "name": "python"
    }
  },
  "cells": [
    {
      "cell_type": "markdown",
      "metadata": {
        "id": "view-in-github",
        "colab_type": "text"
      },
      "source": [
        "<a href=\"https://colab.research.google.com/github/Biancaa-R/clocks--alarm-clock/blob/main/alarm.ipynb\" target=\"_parent\"><img src=\"https://colab.research.google.com/assets/colab-badge.svg\" alt=\"Open In Colab\"/></a>"
      ]
    },
    {
      "cell_type": "code",
      "metadata": {
        "colab": {
          "base_uri": "https://localhost:8080/"
        },
        "id": "1HhH61bN2sZ3",
        "outputId": "5b381792-2020-47f8-bc13-7bf70bcb2149"
      },
      "source": [
        "!pip install playsound"
      ],
      "execution_count": 2,
      "outputs": [
        {
          "output_type": "stream",
          "text": [
            "Collecting playsound\n",
            "  Downloading playsound-1.3.0.tar.gz (7.7 kB)\n",
            "Building wheels for collected packages: playsound\n",
            "  Building wheel for playsound (setup.py) ... \u001b[?25l\u001b[?25hdone\n",
            "  Created wheel for playsound: filename=playsound-1.3.0-py3-none-any.whl size=7037 sha256=8bb07e4d94c76985875b5251af82816ceb8733e29fa2f6247077c9d844ca9ff8\n",
            "  Stored in directory: /root/.cache/pip/wheels/ba/f8/bb/ea57c0146b664dca3a0ada4199b0ecb5f9dfcb7b7e22b65ba2\n",
            "Successfully built playsound\n",
            "Installing collected packages: playsound\n",
            "Successfully installed playsound-1.3.0\n"
          ],
          "name": "stdout"
        }
      ]
    },
    {
      "cell_type": "code",
      "metadata": {
        "colab": {
          "base_uri": "https://localhost:8080/"
        },
        "id": "qA_ufO6y33m8",
        "outputId": "503f5bbc-15fb-48a2-d897-52fb57d85d63"
      },
      "source": [
        "!pip install pygobject"
      ],
      "execution_count": 3,
      "outputs": [
        {
          "output_type": "stream",
          "text": [
            "Requirement already satisfied: pygobject in /usr/lib/python3/dist-packages (3.26.1)\n"
          ],
          "name": "stdout"
        }
      ]
    },
    {
      "cell_type": "code",
      "metadata": {
        "id": "l0IwCH6M2U6I"
      },
      "source": [
        "from datetime import datetime   \n",
        "from playsound import playsound\n",
        "from datetime import datetime   \n",
        "from playsound import playsound\n",
        "alarm_time = input(\"Enter the time of alarm to be set:HH:MM:SS\\n\")\n",
        "alarm_hour=alarm_time[0:2]\n",
        "alarm_minute=alarm_time[3:5]\n",
        "alarm_seconds=alarm_time[6:8]\n",
        "alarm_period = alarm_time[9:11].upper()\n",
        "print(\"Setting up alarm..\")\n",
        "while True:\n",
        "    now = datetime.now()\n",
        "    current_hour = now.strftime(\"%I\")\n",
        "    current_minute = now.strftime(\"%M\")\n",
        "    current_seconds = now.strftime(\"%S\")\n",
        "    current_period = now.strftime(\"%p\")\n",
        "    if(alarm_period==current_period):\n",
        "        if(alarm_hour==current_hour):\n",
        "            if(alarm_minute==current_minute):\n",
        "                if(alarm_seconds==current_seconds):\n",
        "                    print(\"Wake Up!\")\n",
        "                    playsound('Kalimba.mp3')\n",
        "                    break\n",
        "\n",
        "alarm_time = input(\"Enter the time of alarm to be set:HH:MM:SS\\n\")\n",
        "alarm_hour=alarm_time[0:2]\n",
        "alarm_minute=alarm_time[3:5]\n",
        "alarm_seconds=alarm_time[6:8]\n",
        "alarm_period = alarm_time[9:11].upper()\n",
        "print(\"Setting up alarm..\")\n",
        "while True:\n",
        "    now = datetime.now()\n",
        "    current_hour = now.strftime(\"%I\")\n",
        "    current_minute = now.strftime(\"%M\")\n",
        "    current_seconds = now.strftime(\"%S\")\n",
        "    current_period = now.strftime(\"%p\")\n",
        "    if(alarm_period==current_period):\n",
        "        if(alarm_hour==current_hour):\n",
        "            if(alarm_minute==current_minute):\n",
        "                if(alarm_seconds==current_seconds):\n",
        "                    print(\"Wake Up!\")\n",
        "                    playsound('Kalimba.mp3')\n",
        "                    break\n"
      ],
      "execution_count": null,
      "outputs": []
    }
  ]
}